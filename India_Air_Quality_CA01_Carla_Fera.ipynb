{
  "nbformat": 4,
  "nbformat_minor": 0,
  "metadata": {
    "kernelspec": {
      "display_name": "Python 3",
      "language": "python",
      "name": "python3"
    },
    "language_info": {
      "codemirror_mode": {
        "name": "ipython",
        "version": 3
      },
      "file_extension": ".py",
      "mimetype": "text/x-python",
      "name": "python",
      "nbconvert_exporter": "python",
      "pygments_lexer": "ipython3",
      "version": "3.5.4"
    },
    "colab": {
      "name": "India Air Quality-CA01-Carla-Fera.ipynb",
      "provenance": [],
      "collapsed_sections": [],
      "toc_visible": true
    }
  },
  "cells": [
    {
      "cell_type": "markdown",
      "metadata": {
        "id": "wxBIF9xHEPmF",
        "colab_type": "text"
      },
      "source": [
        "# Your name: Carla Mariana Fera\n",
        "## Assignment Name: CA01 - Data Cleaning and Exploration of India Air Quality"
      ]
    },
    {
      "cell_type": "markdown",
      "metadata": {
        "id": "5uJW194aEPmI",
        "colab_type": "text"
      },
      "source": [
        "# Program Inititialization Section\n",
        "## Enter your import packages here"
      ]
    },
    {
      "cell_type": "code",
      "metadata": {
        "id": "_3jIsSvLEPmJ",
        "colab_type": "code",
        "colab": {}
      },
      "source": [
        "# import packages \n",
        "import pandas as pd\n"
      ],
      "execution_count": 0,
      "outputs": []
    },
    {
      "cell_type": "markdown",
      "metadata": {
        "id": "MuGHtoSvEPmN",
        "colab_type": "text"
      },
      "source": [
        "# Data File Reading Section\n",
        "## Write code to read in data from external sources here"
      ]
    },
    {
      "cell_type": "code",
      "metadata": {
        "id": "HU3x-7RzEPmO",
        "colab_type": "code",
        "outputId": "a0b45278-8a13-4d48-aed9-356d502d9cc2",
        "colab": {
          "base_uri": "https://localhost:8080/",
          "height": 685
        }
      },
      "source": [
        "#read datasets\n",
        "\n",
        "india_df=pd.read_csv(\"data.csv\")\n",
        "india_df.head(10)\n"
      ],
      "execution_count": 2,
      "outputs": [
        {
          "output_type": "stream",
          "text": [
            "/usr/local/lib/python3.6/dist-packages/IPython/core/interactiveshell.py:2718: DtypeWarning: Columns (0) have mixed types. Specify dtype option on import or set low_memory=False.\n",
            "  interactivity=interactivity, compiler=compiler, result=result)\n"
          ],
          "name": "stderr"
        },
        {
          "output_type": "execute_result",
          "data": {
            "text/html": [
              "<div>\n",
              "<style scoped>\n",
              "    .dataframe tbody tr th:only-of-type {\n",
              "        vertical-align: middle;\n",
              "    }\n",
              "\n",
              "    .dataframe tbody tr th {\n",
              "        vertical-align: top;\n",
              "    }\n",
              "\n",
              "    .dataframe thead th {\n",
              "        text-align: right;\n",
              "    }\n",
              "</style>\n",
              "<table border=\"1\" class=\"dataframe\">\n",
              "  <thead>\n",
              "    <tr style=\"text-align: right;\">\n",
              "      <th></th>\n",
              "      <th>stn_code</th>\n",
              "      <th>sampling_date</th>\n",
              "      <th>state</th>\n",
              "      <th>location</th>\n",
              "      <th>agency</th>\n",
              "      <th>type</th>\n",
              "      <th>so2</th>\n",
              "      <th>no2</th>\n",
              "      <th>rspm</th>\n",
              "      <th>spm</th>\n",
              "      <th>location_monitoring_station</th>\n",
              "      <th>pm2_5</th>\n",
              "      <th>date</th>\n",
              "    </tr>\n",
              "  </thead>\n",
              "  <tbody>\n",
              "    <tr>\n",
              "      <th>0</th>\n",
              "      <td>150</td>\n",
              "      <td>February - M021990</td>\n",
              "      <td>Andhra Pradesh</td>\n",
              "      <td>Hyderabad</td>\n",
              "      <td>NaN</td>\n",
              "      <td>Residential, Rural and other Areas</td>\n",
              "      <td>4.8</td>\n",
              "      <td>17.4</td>\n",
              "      <td>NaN</td>\n",
              "      <td>NaN</td>\n",
              "      <td>NaN</td>\n",
              "      <td>NaN</td>\n",
              "      <td>2/1/1990</td>\n",
              "    </tr>\n",
              "    <tr>\n",
              "      <th>1</th>\n",
              "      <td>151</td>\n",
              "      <td>February - M021990</td>\n",
              "      <td>Andhra Pradesh</td>\n",
              "      <td>Hyderabad</td>\n",
              "      <td>NaN</td>\n",
              "      <td>Industrial Area</td>\n",
              "      <td>3.1</td>\n",
              "      <td>7.0</td>\n",
              "      <td>NaN</td>\n",
              "      <td>NaN</td>\n",
              "      <td>NaN</td>\n",
              "      <td>NaN</td>\n",
              "      <td>2/1/1990</td>\n",
              "    </tr>\n",
              "    <tr>\n",
              "      <th>2</th>\n",
              "      <td>152</td>\n",
              "      <td>February - M021990</td>\n",
              "      <td>Andhra Pradesh</td>\n",
              "      <td>Hyderabad</td>\n",
              "      <td>NaN</td>\n",
              "      <td>Residential, Rural and other Areas</td>\n",
              "      <td>6.2</td>\n",
              "      <td>28.5</td>\n",
              "      <td>NaN</td>\n",
              "      <td>NaN</td>\n",
              "      <td>NaN</td>\n",
              "      <td>NaN</td>\n",
              "      <td>2/1/1990</td>\n",
              "    </tr>\n",
              "    <tr>\n",
              "      <th>3</th>\n",
              "      <td>150</td>\n",
              "      <td>March - M031990</td>\n",
              "      <td>Andhra Pradesh</td>\n",
              "      <td>Hyderabad</td>\n",
              "      <td>NaN</td>\n",
              "      <td>Residential, Rural and other Areas</td>\n",
              "      <td>6.3</td>\n",
              "      <td>14.7</td>\n",
              "      <td>NaN</td>\n",
              "      <td>NaN</td>\n",
              "      <td>NaN</td>\n",
              "      <td>NaN</td>\n",
              "      <td>3/1/1990</td>\n",
              "    </tr>\n",
              "    <tr>\n",
              "      <th>4</th>\n",
              "      <td>151</td>\n",
              "      <td>March - M031990</td>\n",
              "      <td>Andhra Pradesh</td>\n",
              "      <td>Hyderabad</td>\n",
              "      <td>NaN</td>\n",
              "      <td>Industrial Area</td>\n",
              "      <td>4.7</td>\n",
              "      <td>7.5</td>\n",
              "      <td>NaN</td>\n",
              "      <td>NaN</td>\n",
              "      <td>NaN</td>\n",
              "      <td>NaN</td>\n",
              "      <td>3/1/1990</td>\n",
              "    </tr>\n",
              "    <tr>\n",
              "      <th>5</th>\n",
              "      <td>152</td>\n",
              "      <td>March - M031990</td>\n",
              "      <td>Andhra Pradesh</td>\n",
              "      <td>Hyderabad</td>\n",
              "      <td>NaN</td>\n",
              "      <td>Residential, Rural and other Areas</td>\n",
              "      <td>6.4</td>\n",
              "      <td>25.7</td>\n",
              "      <td>NaN</td>\n",
              "      <td>NaN</td>\n",
              "      <td>NaN</td>\n",
              "      <td>NaN</td>\n",
              "      <td>3/1/1990</td>\n",
              "    </tr>\n",
              "    <tr>\n",
              "      <th>6</th>\n",
              "      <td>150</td>\n",
              "      <td>April - M041990</td>\n",
              "      <td>Andhra Pradesh</td>\n",
              "      <td>Hyderabad</td>\n",
              "      <td>NaN</td>\n",
              "      <td>Residential, Rural and other Areas</td>\n",
              "      <td>5.4</td>\n",
              "      <td>17.1</td>\n",
              "      <td>NaN</td>\n",
              "      <td>NaN</td>\n",
              "      <td>NaN</td>\n",
              "      <td>NaN</td>\n",
              "      <td>4/1/1990</td>\n",
              "    </tr>\n",
              "    <tr>\n",
              "      <th>7</th>\n",
              "      <td>151</td>\n",
              "      <td>April - M041990</td>\n",
              "      <td>Andhra Pradesh</td>\n",
              "      <td>Hyderabad</td>\n",
              "      <td>NaN</td>\n",
              "      <td>Industrial Area</td>\n",
              "      <td>4.7</td>\n",
              "      <td>8.7</td>\n",
              "      <td>NaN</td>\n",
              "      <td>NaN</td>\n",
              "      <td>NaN</td>\n",
              "      <td>NaN</td>\n",
              "      <td>4/1/1990</td>\n",
              "    </tr>\n",
              "    <tr>\n",
              "      <th>8</th>\n",
              "      <td>152</td>\n",
              "      <td>April - M041990</td>\n",
              "      <td>Andhra Pradesh</td>\n",
              "      <td>Hyderabad</td>\n",
              "      <td>NaN</td>\n",
              "      <td>Residential, Rural and other Areas</td>\n",
              "      <td>4.2</td>\n",
              "      <td>23.0</td>\n",
              "      <td>NaN</td>\n",
              "      <td>NaN</td>\n",
              "      <td>NaN</td>\n",
              "      <td>NaN</td>\n",
              "      <td>4/1/1990</td>\n",
              "    </tr>\n",
              "    <tr>\n",
              "      <th>9</th>\n",
              "      <td>151</td>\n",
              "      <td>May - M051990</td>\n",
              "      <td>Andhra Pradesh</td>\n",
              "      <td>Hyderabad</td>\n",
              "      <td>NaN</td>\n",
              "      <td>Industrial Area</td>\n",
              "      <td>4.0</td>\n",
              "      <td>8.9</td>\n",
              "      <td>NaN</td>\n",
              "      <td>NaN</td>\n",
              "      <td>NaN</td>\n",
              "      <td>NaN</td>\n",
              "      <td>5/1/1990</td>\n",
              "    </tr>\n",
              "  </tbody>\n",
              "</table>\n",
              "</div>"
            ],
            "text/plain": [
              "  stn_code       sampling_date  ... pm2_5      date\n",
              "0      150  February - M021990  ...   NaN  2/1/1990\n",
              "1      151  February - M021990  ...   NaN  2/1/1990\n",
              "2      152  February - M021990  ...   NaN  2/1/1990\n",
              "3      150     March - M031990  ...   NaN  3/1/1990\n",
              "4      151     March - M031990  ...   NaN  3/1/1990\n",
              "5      152     March - M031990  ...   NaN  3/1/1990\n",
              "6      150     April - M041990  ...   NaN  4/1/1990\n",
              "7      151     April - M041990  ...   NaN  4/1/1990\n",
              "8      152     April - M041990  ...   NaN  4/1/1990\n",
              "9      151       May - M051990  ...   NaN  5/1/1990\n",
              "\n",
              "[10 rows x 13 columns]"
            ]
          },
          "metadata": {
            "tags": []
          },
          "execution_count": 2
        }
      ]
    },
    {
      "cell_type": "markdown",
      "metadata": {
        "id": "SKqhMi8vEPmR",
        "colab_type": "text"
      },
      "source": [
        "# Initial Data Investigation Section\n",
        "\n",
        "## Summarized details\n",
        "### Generate descriptive statistics that summarize the central tendency, dispersion, and shape of a dataset’s distribution, excluding NaN values.\n",
        "#### Steps:\n",
        "#### 1. Statistical Description of data (data.describe)\n",
        "#### 2. Display number of total rows and columns of the dataset (data.shape)\n",
        "#### 3. Display number of non-null values for each column (data.count)\n",
        "#### 4. Display number of null values for each column (sum of data.isnull)\n",
        "#### 5. Display range, column, number of non-null objects of each column, datatype and memory usage (data.info)\n",
        "#### 6. Display Top 10 and Bottom 10 records (head and tail)"
      ]
    },
    {
      "cell_type": "code",
      "metadata": {
        "scrolled": false,
        "id": "7la3ayShEPmS",
        "colab_type": "code",
        "outputId": "e1970d31-59fb-46d5-dcbe-11d349bec04d",
        "colab": {
          "base_uri": "https://localhost:8080/",
          "height": 1000
        }
      },
      "source": [
        "# Your code for this section here ...\n",
        "india_df.describe()\n",
        "india_df.shape\n",
        "india_df.count()\n",
        "india_df.isnull().sum()\n",
        "india_df.info()\n",
        "india_df.head(10)\n",
        "india_df.tail(10)"
      ],
      "execution_count": 3,
      "outputs": [
        {
          "output_type": "stream",
          "text": [
            "<class 'pandas.core.frame.DataFrame'>\n",
            "RangeIndex: 435742 entries, 0 to 435741\n",
            "Data columns (total 13 columns):\n",
            "stn_code                       291665 non-null object\n",
            "sampling_date                  435739 non-null object\n",
            "state                          435742 non-null object\n",
            "location                       435739 non-null object\n",
            "agency                         286261 non-null object\n",
            "type                           430349 non-null object\n",
            "so2                            401096 non-null float64\n",
            "no2                            419509 non-null float64\n",
            "rspm                           395520 non-null float64\n",
            "spm                            198355 non-null float64\n",
            "location_monitoring_station    408251 non-null object\n",
            "pm2_5                          9314 non-null float64\n",
            "date                           435735 non-null object\n",
            "dtypes: float64(5), object(8)\n",
            "memory usage: 43.2+ MB\n"
          ],
          "name": "stdout"
        },
        {
          "output_type": "execute_result",
          "data": {
            "text/html": [
              "<div>\n",
              "<style scoped>\n",
              "    .dataframe tbody tr th:only-of-type {\n",
              "        vertical-align: middle;\n",
              "    }\n",
              "\n",
              "    .dataframe tbody tr th {\n",
              "        vertical-align: top;\n",
              "    }\n",
              "\n",
              "    .dataframe thead th {\n",
              "        text-align: right;\n",
              "    }\n",
              "</style>\n",
              "<table border=\"1\" class=\"dataframe\">\n",
              "  <thead>\n",
              "    <tr style=\"text-align: right;\">\n",
              "      <th></th>\n",
              "      <th>stn_code</th>\n",
              "      <th>sampling_date</th>\n",
              "      <th>state</th>\n",
              "      <th>location</th>\n",
              "      <th>agency</th>\n",
              "      <th>type</th>\n",
              "      <th>so2</th>\n",
              "      <th>no2</th>\n",
              "      <th>rspm</th>\n",
              "      <th>spm</th>\n",
              "      <th>location_monitoring_station</th>\n",
              "      <th>pm2_5</th>\n",
              "      <th>date</th>\n",
              "    </tr>\n",
              "  </thead>\n",
              "  <tbody>\n",
              "    <tr>\n",
              "      <th>435732</th>\n",
              "      <td>SAMP</td>\n",
              "      <td>9/12/2015</td>\n",
              "      <td>West Bengal</td>\n",
              "      <td>ULUBERIA</td>\n",
              "      <td>West Bengal State Pollution Control Board</td>\n",
              "      <td>RIRUO</td>\n",
              "      <td>22.0</td>\n",
              "      <td>50.0</td>\n",
              "      <td>145.0</td>\n",
              "      <td>NaN</td>\n",
              "      <td>Inside Rampal Industries,ULUBERIA</td>\n",
              "      <td>NaN</td>\n",
              "      <td>12/9/2015</td>\n",
              "    </tr>\n",
              "    <tr>\n",
              "      <th>435733</th>\n",
              "      <td>SAMP</td>\n",
              "      <td>12/12/2015</td>\n",
              "      <td>West Bengal</td>\n",
              "      <td>ULUBERIA</td>\n",
              "      <td>West Bengal State Pollution Control Board</td>\n",
              "      <td>RIRUO</td>\n",
              "      <td>34.0</td>\n",
              "      <td>61.0</td>\n",
              "      <td>161.0</td>\n",
              "      <td>NaN</td>\n",
              "      <td>Inside Rampal Industries,ULUBERIA</td>\n",
              "      <td>NaN</td>\n",
              "      <td>12/12/2015</td>\n",
              "    </tr>\n",
              "    <tr>\n",
              "      <th>435734</th>\n",
              "      <td>SAMP</td>\n",
              "      <td>15-12-15</td>\n",
              "      <td>West Bengal</td>\n",
              "      <td>ULUBERIA</td>\n",
              "      <td>West Bengal State Pollution Control Board</td>\n",
              "      <td>RIRUO</td>\n",
              "      <td>20.0</td>\n",
              "      <td>44.0</td>\n",
              "      <td>148.0</td>\n",
              "      <td>NaN</td>\n",
              "      <td>Inside Rampal Industries,ULUBERIA</td>\n",
              "      <td>NaN</td>\n",
              "      <td>12/15/2015</td>\n",
              "    </tr>\n",
              "    <tr>\n",
              "      <th>435735</th>\n",
              "      <td>SAMP</td>\n",
              "      <td>18-12-15</td>\n",
              "      <td>West Bengal</td>\n",
              "      <td>ULUBERIA</td>\n",
              "      <td>West Bengal State Pollution Control Board</td>\n",
              "      <td>RIRUO</td>\n",
              "      <td>17.0</td>\n",
              "      <td>44.0</td>\n",
              "      <td>131.0</td>\n",
              "      <td>NaN</td>\n",
              "      <td>Inside Rampal Industries,ULUBERIA</td>\n",
              "      <td>NaN</td>\n",
              "      <td>12/18/2015</td>\n",
              "    </tr>\n",
              "    <tr>\n",
              "      <th>435736</th>\n",
              "      <td>SAMP</td>\n",
              "      <td>21-12-15</td>\n",
              "      <td>West Bengal</td>\n",
              "      <td>ULUBERIA</td>\n",
              "      <td>West Bengal State Pollution Control Board</td>\n",
              "      <td>RIRUO</td>\n",
              "      <td>18.0</td>\n",
              "      <td>45.0</td>\n",
              "      <td>140.0</td>\n",
              "      <td>NaN</td>\n",
              "      <td>Inside Rampal Industries,ULUBERIA</td>\n",
              "      <td>NaN</td>\n",
              "      <td>12/21/2015</td>\n",
              "    </tr>\n",
              "    <tr>\n",
              "      <th>435737</th>\n",
              "      <td>SAMP</td>\n",
              "      <td>24-12-15</td>\n",
              "      <td>West Bengal</td>\n",
              "      <td>ULUBERIA</td>\n",
              "      <td>West Bengal State Pollution Control Board</td>\n",
              "      <td>RIRUO</td>\n",
              "      <td>22.0</td>\n",
              "      <td>50.0</td>\n",
              "      <td>143.0</td>\n",
              "      <td>NaN</td>\n",
              "      <td>Inside Rampal Industries,ULUBERIA</td>\n",
              "      <td>NaN</td>\n",
              "      <td>12/24/2015</td>\n",
              "    </tr>\n",
              "    <tr>\n",
              "      <th>435738</th>\n",
              "      <td>SAMP</td>\n",
              "      <td>29-12-15</td>\n",
              "      <td>West Bengal</td>\n",
              "      <td>ULUBERIA</td>\n",
              "      <td>West Bengal State Pollution Control Board</td>\n",
              "      <td>RIRUO</td>\n",
              "      <td>20.0</td>\n",
              "      <td>46.0</td>\n",
              "      <td>171.0</td>\n",
              "      <td>NaN</td>\n",
              "      <td>Inside Rampal Industries,ULUBERIA</td>\n",
              "      <td>NaN</td>\n",
              "      <td>12/29/2015</td>\n",
              "    </tr>\n",
              "    <tr>\n",
              "      <th>435739</th>\n",
              "      <td>NaN</td>\n",
              "      <td>NaN</td>\n",
              "      <td>andaman-and-nicobar-islands</td>\n",
              "      <td>NaN</td>\n",
              "      <td>NaN</td>\n",
              "      <td>NaN</td>\n",
              "      <td>NaN</td>\n",
              "      <td>NaN</td>\n",
              "      <td>NaN</td>\n",
              "      <td>NaN</td>\n",
              "      <td>NaN</td>\n",
              "      <td>NaN</td>\n",
              "      <td>NaN</td>\n",
              "    </tr>\n",
              "    <tr>\n",
              "      <th>435740</th>\n",
              "      <td>NaN</td>\n",
              "      <td>NaN</td>\n",
              "      <td>Lakshadweep</td>\n",
              "      <td>NaN</td>\n",
              "      <td>NaN</td>\n",
              "      <td>NaN</td>\n",
              "      <td>NaN</td>\n",
              "      <td>NaN</td>\n",
              "      <td>NaN</td>\n",
              "      <td>NaN</td>\n",
              "      <td>NaN</td>\n",
              "      <td>NaN</td>\n",
              "      <td>NaN</td>\n",
              "    </tr>\n",
              "    <tr>\n",
              "      <th>435741</th>\n",
              "      <td>NaN</td>\n",
              "      <td>NaN</td>\n",
              "      <td>Tripura</td>\n",
              "      <td>NaN</td>\n",
              "      <td>NaN</td>\n",
              "      <td>NaN</td>\n",
              "      <td>NaN</td>\n",
              "      <td>NaN</td>\n",
              "      <td>NaN</td>\n",
              "      <td>NaN</td>\n",
              "      <td>NaN</td>\n",
              "      <td>NaN</td>\n",
              "      <td>NaN</td>\n",
              "    </tr>\n",
              "  </tbody>\n",
              "</table>\n",
              "</div>"
            ],
            "text/plain": [
              "       stn_code sampling_date  ... pm2_5        date\n",
              "435732     SAMP     9/12/2015  ...   NaN   12/9/2015\n",
              "435733     SAMP    12/12/2015  ...   NaN  12/12/2015\n",
              "435734     SAMP      15-12-15  ...   NaN  12/15/2015\n",
              "435735     SAMP      18-12-15  ...   NaN  12/18/2015\n",
              "435736     SAMP      21-12-15  ...   NaN  12/21/2015\n",
              "435737     SAMP      24-12-15  ...   NaN  12/24/2015\n",
              "435738     SAMP      29-12-15  ...   NaN  12/29/2015\n",
              "435739      NaN           NaN  ...   NaN         NaN\n",
              "435740      NaN           NaN  ...   NaN         NaN\n",
              "435741      NaN           NaN  ...   NaN         NaN\n",
              "\n",
              "[10 rows x 13 columns]"
            ]
          },
          "metadata": {
            "tags": []
          },
          "execution_count": 3
        }
      ]
    },
    {
      "cell_type": "markdown",
      "metadata": {
        "id": "cMRsIHtEEPmV",
        "colab_type": "text"
      },
      "source": [
        "## Cleansing the dataset\n",
        "### Dropping of less valued columns:\n",
        "1. stn_code, agency, sampling_date, location_monitoring_agency do not add much value to the dataset in terms of information. Therefore, we can drop those columns.\n",
        "\n",
        "2. Dropping rows where no date is available."
      ]
    },
    {
      "cell_type": "code",
      "metadata": {
        "id": "vH3l31u3EPmV",
        "colab_type": "code",
        "colab": {}
      },
      "source": [
        "# Cleaning up the data\n",
        "\n",
        "#dropping columns that aren't required\n",
        "#CAN ONLY RUN ONE TIME, IF RUN TWICE PROGRAM CANNOT FIND THE COLUMNS TO DROP BECAUSE THEY ARE ALREADY DROPPED. \n",
        "india_df.drop(columns=[\"stn_code\",\"agency\",\"sampling_date\",\"location_monitoring_station\"],inplace=True)\n",
        "\n",
        "# dropping rows where no date is available\n",
        "india_df.dropna(subset=[\"date\"],inplace=True)\n",
        "\n",
        "# ... your code here"
      ],
      "execution_count": 0,
      "outputs": []
    },
    {
      "cell_type": "code",
      "metadata": {
        "id": "_UfksmAWEPmY",
        "colab_type": "code",
        "outputId": "4081898a-9057-4678-9106-400092b4c41c",
        "colab": {
          "base_uri": "https://localhost:8080/",
          "height": 68
        }
      },
      "source": [
        "# displaying final columns (data.columns)\n",
        "india_df.columns\n",
        "# ... your code here"
      ],
      "execution_count": 5,
      "outputs": [
        {
          "output_type": "execute_result",
          "data": {
            "text/plain": [
              "Index(['state', 'location', 'type', 'so2', 'no2', 'rspm', 'spm', 'pm2_5',\n",
              "       'date'],\n",
              "      dtype='object')"
            ]
          },
          "metadata": {
            "tags": []
          },
          "execution_count": 5
        }
      ]
    },
    {
      "cell_type": "code",
      "metadata": {
        "id": "8Tcolu2Yiwak",
        "colab_type": "code",
        "outputId": "a9fcd61f-c462-44e1-e1e3-ea43c131baf0",
        "colab": {
          "base_uri": "https://localhost:8080/",
          "height": 187
        }
      },
      "source": [
        "india_df.isnull().sum()"
      ],
      "execution_count": 6,
      "outputs": [
        {
          "output_type": "execute_result",
          "data": {
            "text/plain": [
              "state            0\n",
              "location         0\n",
              "type          5390\n",
              "so2          34643\n",
              "no2          16230\n",
              "rspm         40219\n",
              "spm         237380\n",
              "pm2_5       426421\n",
              "date             0\n",
              "dtype: int64"
            ]
          },
          "metadata": {
            "tags": []
          },
          "execution_count": 6
        }
      ]
    },
    {
      "cell_type": "markdown",
      "metadata": {
        "id": "xRi8AegLEPmb",
        "colab_type": "text"
      },
      "source": [
        "### Changing the types to uniform format:\n",
        "\n",
        "Notice that the ‘type’ column has values such as ‘Industrial Area’ and ‘Industrial Areas’ — both actually mean the same, so let’s remove such type of stuff and make it uniform. Replace the 'type' values with standard codes as follows:\n",
        "\n",
        "types = {\n",
        "    \"Residential\": \"R\",\n",
        "    \"Residential and others\": \"RO\",\n",
        "    \"Residential, Rural and other Areas\": \"RRO\",\n",
        "    \"Industrial Area\": \"I\",\n",
        "    \"Industrial Areas\": \"I\",\n",
        "    \"Industrial\": \"I\",\n",
        "    \"Sensitive Area\": \"S\",\n",
        "    \"Sensitive Areas\": \"S\",\n",
        "    \"Sensitive\": \"S\",\n",
        "    np.nan: \"RRO\"\n",
        "}\n",
        "\n",
        "data.type = data.type.replace(types)"
      ]
    },
    {
      "cell_type": "code",
      "metadata": {
        "id": "_NLK6elfEPmc",
        "colab_type": "code",
        "colab": {}
      },
      "source": [
        "# ... Your code here\n",
        "india_df.type=india_df.type.replace(to_replace=\"Residential\",value=\"R\")\n",
        "india_df.type=india_df.type.replace(to_replace=\"Residential and others\",value=\"RO\")\n",
        "india_df.type=india_df.type.replace(to_replace=\"Residential, Rural and other Areas\",value=\"RRO\")\n",
        "india_df.type=india_df.type.replace(to_replace=[\"Industrial Area\",\"Industrial Areas\",\"Industrial\"],value=\"I\")\n",
        "india_df.type=india_df.type.replace(to_replace=[\"Sensitive Area\",\"Sensitive Areas\",\"Sensitive\"],value=\"S\")\n",
        "india_df[\"type\"].fillna(\"RRO\",inplace=True)"
      ],
      "execution_count": 0,
      "outputs": []
    },
    {
      "cell_type": "code",
      "metadata": {
        "id": "wU10FJ5ZEPme",
        "colab_type": "code",
        "outputId": "49baa9ad-29d3-4c96-81a2-875b97b37607",
        "colab": {
          "base_uri": "https://localhost:8080/",
          "height": 359
        }
      },
      "source": [
        "# Display top 10 records after codification of 'types'\n",
        "india_df.head(10)"
      ],
      "execution_count": 8,
      "outputs": [
        {
          "output_type": "execute_result",
          "data": {
            "text/html": [
              "<div>\n",
              "<style scoped>\n",
              "    .dataframe tbody tr th:only-of-type {\n",
              "        vertical-align: middle;\n",
              "    }\n",
              "\n",
              "    .dataframe tbody tr th {\n",
              "        vertical-align: top;\n",
              "    }\n",
              "\n",
              "    .dataframe thead th {\n",
              "        text-align: right;\n",
              "    }\n",
              "</style>\n",
              "<table border=\"1\" class=\"dataframe\">\n",
              "  <thead>\n",
              "    <tr style=\"text-align: right;\">\n",
              "      <th></th>\n",
              "      <th>state</th>\n",
              "      <th>location</th>\n",
              "      <th>type</th>\n",
              "      <th>so2</th>\n",
              "      <th>no2</th>\n",
              "      <th>rspm</th>\n",
              "      <th>spm</th>\n",
              "      <th>pm2_5</th>\n",
              "      <th>date</th>\n",
              "    </tr>\n",
              "  </thead>\n",
              "  <tbody>\n",
              "    <tr>\n",
              "      <th>0</th>\n",
              "      <td>Andhra Pradesh</td>\n",
              "      <td>Hyderabad</td>\n",
              "      <td>RRO</td>\n",
              "      <td>4.8</td>\n",
              "      <td>17.4</td>\n",
              "      <td>NaN</td>\n",
              "      <td>NaN</td>\n",
              "      <td>NaN</td>\n",
              "      <td>2/1/1990</td>\n",
              "    </tr>\n",
              "    <tr>\n",
              "      <th>1</th>\n",
              "      <td>Andhra Pradesh</td>\n",
              "      <td>Hyderabad</td>\n",
              "      <td>I</td>\n",
              "      <td>3.1</td>\n",
              "      <td>7.0</td>\n",
              "      <td>NaN</td>\n",
              "      <td>NaN</td>\n",
              "      <td>NaN</td>\n",
              "      <td>2/1/1990</td>\n",
              "    </tr>\n",
              "    <tr>\n",
              "      <th>2</th>\n",
              "      <td>Andhra Pradesh</td>\n",
              "      <td>Hyderabad</td>\n",
              "      <td>RRO</td>\n",
              "      <td>6.2</td>\n",
              "      <td>28.5</td>\n",
              "      <td>NaN</td>\n",
              "      <td>NaN</td>\n",
              "      <td>NaN</td>\n",
              "      <td>2/1/1990</td>\n",
              "    </tr>\n",
              "    <tr>\n",
              "      <th>3</th>\n",
              "      <td>Andhra Pradesh</td>\n",
              "      <td>Hyderabad</td>\n",
              "      <td>RRO</td>\n",
              "      <td>6.3</td>\n",
              "      <td>14.7</td>\n",
              "      <td>NaN</td>\n",
              "      <td>NaN</td>\n",
              "      <td>NaN</td>\n",
              "      <td>3/1/1990</td>\n",
              "    </tr>\n",
              "    <tr>\n",
              "      <th>4</th>\n",
              "      <td>Andhra Pradesh</td>\n",
              "      <td>Hyderabad</td>\n",
              "      <td>I</td>\n",
              "      <td>4.7</td>\n",
              "      <td>7.5</td>\n",
              "      <td>NaN</td>\n",
              "      <td>NaN</td>\n",
              "      <td>NaN</td>\n",
              "      <td>3/1/1990</td>\n",
              "    </tr>\n",
              "    <tr>\n",
              "      <th>5</th>\n",
              "      <td>Andhra Pradesh</td>\n",
              "      <td>Hyderabad</td>\n",
              "      <td>RRO</td>\n",
              "      <td>6.4</td>\n",
              "      <td>25.7</td>\n",
              "      <td>NaN</td>\n",
              "      <td>NaN</td>\n",
              "      <td>NaN</td>\n",
              "      <td>3/1/1990</td>\n",
              "    </tr>\n",
              "    <tr>\n",
              "      <th>6</th>\n",
              "      <td>Andhra Pradesh</td>\n",
              "      <td>Hyderabad</td>\n",
              "      <td>RRO</td>\n",
              "      <td>5.4</td>\n",
              "      <td>17.1</td>\n",
              "      <td>NaN</td>\n",
              "      <td>NaN</td>\n",
              "      <td>NaN</td>\n",
              "      <td>4/1/1990</td>\n",
              "    </tr>\n",
              "    <tr>\n",
              "      <th>7</th>\n",
              "      <td>Andhra Pradesh</td>\n",
              "      <td>Hyderabad</td>\n",
              "      <td>I</td>\n",
              "      <td>4.7</td>\n",
              "      <td>8.7</td>\n",
              "      <td>NaN</td>\n",
              "      <td>NaN</td>\n",
              "      <td>NaN</td>\n",
              "      <td>4/1/1990</td>\n",
              "    </tr>\n",
              "    <tr>\n",
              "      <th>8</th>\n",
              "      <td>Andhra Pradesh</td>\n",
              "      <td>Hyderabad</td>\n",
              "      <td>RRO</td>\n",
              "      <td>4.2</td>\n",
              "      <td>23.0</td>\n",
              "      <td>NaN</td>\n",
              "      <td>NaN</td>\n",
              "      <td>NaN</td>\n",
              "      <td>4/1/1990</td>\n",
              "    </tr>\n",
              "    <tr>\n",
              "      <th>9</th>\n",
              "      <td>Andhra Pradesh</td>\n",
              "      <td>Hyderabad</td>\n",
              "      <td>I</td>\n",
              "      <td>4.0</td>\n",
              "      <td>8.9</td>\n",
              "      <td>NaN</td>\n",
              "      <td>NaN</td>\n",
              "      <td>NaN</td>\n",
              "      <td>5/1/1990</td>\n",
              "    </tr>\n",
              "  </tbody>\n",
              "</table>\n",
              "</div>"
            ],
            "text/plain": [
              "            state   location type  so2   no2  rspm  spm  pm2_5      date\n",
              "0  Andhra Pradesh  Hyderabad  RRO  4.8  17.4   NaN  NaN    NaN  2/1/1990\n",
              "1  Andhra Pradesh  Hyderabad    I  3.1   7.0   NaN  NaN    NaN  2/1/1990\n",
              "2  Andhra Pradesh  Hyderabad  RRO  6.2  28.5   NaN  NaN    NaN  2/1/1990\n",
              "3  Andhra Pradesh  Hyderabad  RRO  6.3  14.7   NaN  NaN    NaN  3/1/1990\n",
              "4  Andhra Pradesh  Hyderabad    I  4.7   7.5   NaN  NaN    NaN  3/1/1990\n",
              "5  Andhra Pradesh  Hyderabad  RRO  6.4  25.7   NaN  NaN    NaN  3/1/1990\n",
              "6  Andhra Pradesh  Hyderabad  RRO  5.4  17.1   NaN  NaN    NaN  4/1/1990\n",
              "7  Andhra Pradesh  Hyderabad    I  4.7   8.7   NaN  NaN    NaN  4/1/1990\n",
              "8  Andhra Pradesh  Hyderabad  RRO  4.2  23.0   NaN  NaN    NaN  4/1/1990\n",
              "9  Andhra Pradesh  Hyderabad    I  4.0   8.9   NaN  NaN    NaN  5/1/1990"
            ]
          },
          "metadata": {
            "tags": []
          },
          "execution_count": 8
        }
      ]
    },
    {
      "cell_type": "markdown",
      "metadata": {
        "id": "kuAfWT0lEPmg",
        "colab_type": "text"
      },
      "source": [
        "### Creating a year column\n",
        "To view the trend over a period of time, we need year values for each row and also when you see in most of the values in date column only has ‘year’ value. So, let’s create a new column holding year values. Convert the column to 'datetime' type and extract the year to populate the new column. Display Top 5 records after the conversion."
      ]
    },
    {
      "cell_type": "code",
      "metadata": {
        "id": "BgY3cQXLEPmh",
        "colab_type": "code",
        "outputId": "b5dbddaa-8ec8-4f6f-9727-bb0896917544",
        "colab": {
          "base_uri": "https://localhost:8080/",
          "height": 204
        }
      },
      "source": [
        "# ... Your code here\n",
        "pd.to_datetime(india_df.date)\n",
        "india_df['year'] = pd.DatetimeIndex(india_df['date']).year\n",
        "india_df.head()"
      ],
      "execution_count": 9,
      "outputs": [
        {
          "output_type": "execute_result",
          "data": {
            "text/html": [
              "<div>\n",
              "<style scoped>\n",
              "    .dataframe tbody tr th:only-of-type {\n",
              "        vertical-align: middle;\n",
              "    }\n",
              "\n",
              "    .dataframe tbody tr th {\n",
              "        vertical-align: top;\n",
              "    }\n",
              "\n",
              "    .dataframe thead th {\n",
              "        text-align: right;\n",
              "    }\n",
              "</style>\n",
              "<table border=\"1\" class=\"dataframe\">\n",
              "  <thead>\n",
              "    <tr style=\"text-align: right;\">\n",
              "      <th></th>\n",
              "      <th>state</th>\n",
              "      <th>location</th>\n",
              "      <th>type</th>\n",
              "      <th>so2</th>\n",
              "      <th>no2</th>\n",
              "      <th>rspm</th>\n",
              "      <th>spm</th>\n",
              "      <th>pm2_5</th>\n",
              "      <th>date</th>\n",
              "      <th>year</th>\n",
              "    </tr>\n",
              "  </thead>\n",
              "  <tbody>\n",
              "    <tr>\n",
              "      <th>0</th>\n",
              "      <td>Andhra Pradesh</td>\n",
              "      <td>Hyderabad</td>\n",
              "      <td>RRO</td>\n",
              "      <td>4.8</td>\n",
              "      <td>17.4</td>\n",
              "      <td>NaN</td>\n",
              "      <td>NaN</td>\n",
              "      <td>NaN</td>\n",
              "      <td>2/1/1990</td>\n",
              "      <td>1990</td>\n",
              "    </tr>\n",
              "    <tr>\n",
              "      <th>1</th>\n",
              "      <td>Andhra Pradesh</td>\n",
              "      <td>Hyderabad</td>\n",
              "      <td>I</td>\n",
              "      <td>3.1</td>\n",
              "      <td>7.0</td>\n",
              "      <td>NaN</td>\n",
              "      <td>NaN</td>\n",
              "      <td>NaN</td>\n",
              "      <td>2/1/1990</td>\n",
              "      <td>1990</td>\n",
              "    </tr>\n",
              "    <tr>\n",
              "      <th>2</th>\n",
              "      <td>Andhra Pradesh</td>\n",
              "      <td>Hyderabad</td>\n",
              "      <td>RRO</td>\n",
              "      <td>6.2</td>\n",
              "      <td>28.5</td>\n",
              "      <td>NaN</td>\n",
              "      <td>NaN</td>\n",
              "      <td>NaN</td>\n",
              "      <td>2/1/1990</td>\n",
              "      <td>1990</td>\n",
              "    </tr>\n",
              "    <tr>\n",
              "      <th>3</th>\n",
              "      <td>Andhra Pradesh</td>\n",
              "      <td>Hyderabad</td>\n",
              "      <td>RRO</td>\n",
              "      <td>6.3</td>\n",
              "      <td>14.7</td>\n",
              "      <td>NaN</td>\n",
              "      <td>NaN</td>\n",
              "      <td>NaN</td>\n",
              "      <td>3/1/1990</td>\n",
              "      <td>1990</td>\n",
              "    </tr>\n",
              "    <tr>\n",
              "      <th>4</th>\n",
              "      <td>Andhra Pradesh</td>\n",
              "      <td>Hyderabad</td>\n",
              "      <td>I</td>\n",
              "      <td>4.7</td>\n",
              "      <td>7.5</td>\n",
              "      <td>NaN</td>\n",
              "      <td>NaN</td>\n",
              "      <td>NaN</td>\n",
              "      <td>3/1/1990</td>\n",
              "      <td>1990</td>\n",
              "    </tr>\n",
              "  </tbody>\n",
              "</table>\n",
              "</div>"
            ],
            "text/plain": [
              "            state   location type  so2   no2  rspm  spm  pm2_5      date  year\n",
              "0  Andhra Pradesh  Hyderabad  RRO  4.8  17.4   NaN  NaN    NaN  2/1/1990  1990\n",
              "1  Andhra Pradesh  Hyderabad    I  3.1   7.0   NaN  NaN    NaN  2/1/1990  1990\n",
              "2  Andhra Pradesh  Hyderabad  RRO  6.2  28.5   NaN  NaN    NaN  2/1/1990  1990\n",
              "3  Andhra Pradesh  Hyderabad  RRO  6.3  14.7   NaN  NaN    NaN  3/1/1990  1990\n",
              "4  Andhra Pradesh  Hyderabad    I  4.7   7.5   NaN  NaN    NaN  3/1/1990  1990"
            ]
          },
          "metadata": {
            "tags": []
          },
          "execution_count": 9
        }
      ]
    },
    {
      "cell_type": "markdown",
      "metadata": {
        "id": "G3paeyo9EPmj",
        "colab_type": "text"
      },
      "source": [
        "### Handling Missing Values\n",
        "\n",
        "The column such as SO2, NO2, rspm, spm, pm2_5 are the ones which contribute much to our analysis. So, we need to remove null from those columns to avoid inaccuracy in the prediction.\n",
        "We use the Imputer from sklearn.preprocessing to fill the missing values in every column with the mean."
      ]
    },
    {
      "cell_type": "code",
      "metadata": {
        "id": "HjTT-_ZeD-83",
        "colab_type": "code",
        "colab": {}
      },
      "source": [
        "# define columns of importance, which shall be used reguarly (COLS = ....)\n",
        "# invoke SimpleImputer to fill missing values using 'mean' as the replacement strategy\n",
        "# Display data.info after the transformation\n",
        "# Display that there are no more missing values in the dataset\n",
        "import numpy as np\n",
        "from sklearn.impute import SimpleImputer\n",
        "imp_mean = SimpleImputer(missing_values=np.nan, strategy='mean')\n",
        "imp_mean.fit(india_df[[\"so2\",\"no2\",\"rspm\",\"spm\",\"pm2_5\"]])\n",
        "array_imp=imp_mean.transform(india_df[[\"so2\",\"no2\",\"rspm\",\"spm\",\"pm2_5\"]])\n",
        "new_df=pd.DataFrame(array_imp)\n",
        "india_df[[\"so2\",\"no2\",\"rspm\",\"spm\",\"pm2_5\"]]=new_df.values"
      ],
      "execution_count": 0,
      "outputs": []
    },
    {
      "cell_type": "code",
      "metadata": {
        "id": "A9_cWV4ylXUI",
        "colab_type": "code",
        "outputId": "9a4c5a08-9cba-4cc4-f818-ae4ee009ffd0",
        "colab": {
          "base_uri": "https://localhost:8080/",
          "height": 204
        }
      },
      "source": [
        "india_df.isnull().sum()"
      ],
      "execution_count": 11,
      "outputs": [
        {
          "output_type": "execute_result",
          "data": {
            "text/plain": [
              "state       0\n",
              "location    0\n",
              "type        0\n",
              "so2         0\n",
              "no2         0\n",
              "rspm        0\n",
              "spm         0\n",
              "pm2_5       0\n",
              "date        0\n",
              "year        0\n",
              "dtype: int64"
            ]
          },
          "metadata": {
            "tags": []
          },
          "execution_count": 11
        }
      ]
    },
    {
      "cell_type": "markdown",
      "metadata": {
        "id": "GLtdRE8sEPmm",
        "colab_type": "text"
      },
      "source": [
        "## Statewise Grouping of so2, no2, rspm, spm values\n",
        "\n",
        "Calculate median values of so2, no2, rspm, spm for each state and display in (a) as table (b) bar chart, with values sorted in ascending order. Separate section for each of the component. Use matplotlib()."
      ]
    },
    {
      "cell_type": "markdown",
      "metadata": {
        "id": "H1cJT73JEPmn",
        "colab_type": "text"
      },
      "source": [
        "### so2 status"
      ]
    },
    {
      "cell_type": "code",
      "metadata": {
        "id": "FKPeZyIh4BcM",
        "colab_type": "code",
        "colab": {}
      },
      "source": [
        "import matplotlib.pyplot as plt"
      ],
      "execution_count": 0,
      "outputs": []
    },
    {
      "cell_type": "code",
      "metadata": {
        "id": "i3JWg_D5EPmn",
        "colab_type": "code",
        "outputId": "18d72d5f-7fb6-4ef8-f523-b4c165163195",
        "colab": {
          "base_uri": "https://localhost:8080/",
          "height": 977
        }
      },
      "source": [
        "# ... Your code here\n",
        "so2_median=india_df.groupby(\"state\")[\"so2\"].median().sort_values(ascending=True)\n",
        "print(so2_median)\n",
        "plt.bar(so2_median.index,so2_median,color=\"green\")\n",
        "plt.xticks(rotation=90)\n",
        "plt.ylabel(\"so2\")\n",
        "plt.show()"
      ],
      "execution_count": 14,
      "outputs": [
        {
          "output_type": "stream",
          "text": [
            "state\n",
            "Nagaland                 2.000000\n",
            "Mizoram                  2.000000\n",
            "Meghalaya                2.000000\n",
            "Arunachal Pradesh        2.500000\n",
            "Himachal Pradesh         3.000000\n",
            "Kerala                   4.200000\n",
            "Telangana                5.000000\n",
            "Odisha                   5.000000\n",
            "Jammu & Kashmir          5.000000\n",
            "Andhra Pradesh           5.000000\n",
            "Goa                      6.000000\n",
            "Rajasthan                6.300000\n",
            "Delhi                    6.300000\n",
            "Assam                    6.500000\n",
            "Puducherry               7.266667\n",
            "Daman & Diu              7.600000\n",
            "Chandigarh               7.950000\n",
            "West Bengal              8.000000\n",
            "Dadra & Nagar Haveli     8.400000\n",
            "Karnataka               10.000000\n",
            "Uttar Pradesh           10.000000\n",
            "Tamil Nadu              10.000000\n",
            "Punjab                  10.300000\n",
            "Manipur                 10.829428\n",
            "Bihar                   10.829428\n",
            "Haryana                 10.829428\n",
            "Madhya Pradesh          10.829428\n",
            "Chhattisgarh            12.500000\n",
            "Maharashtra             13.000000\n",
            "Gujarat                 14.200000\n",
            "Jharkhand               18.700000\n",
            "Sikkim                  19.800000\n",
            "Uttarakhand             21.000000\n",
            "Uttaranchal             25.100000\n",
            "Name: so2, dtype: float64\n"
          ],
          "name": "stdout"
        },
        {
          "output_type": "display_data",
          "data": {
            "image/png": "[encoded data removed]",
            "text/plain": [
              "<Figure size 432x288 with 1 Axes>"
            ]
          },
          "metadata": {
            "tags": []
          }
        }
      ]
    },
    {
      "cell_type": "markdown",
      "metadata": {
        "id": "dAEoqNOfEPmq",
        "colab_type": "text"
      },
      "source": [
        "### no2 status"
      ]
    },
    {
      "cell_type": "code",
      "metadata": {
        "id": "0IpICzv1EPmq",
        "colab_type": "code",
        "outputId": "0ee8b105-9afe-49ec-b714-7ddd410333ce",
        "colab": {
          "base_uri": "https://localhost:8080/",
          "height": 977
        }
      },
      "source": [
        "# ... Your code here\n",
        "no2_median=india_df.groupby(\"state\")[\"no2\"].median().sort_values(ascending=True)\n",
        "print(no2_median)\n",
        "plt.bar(no2_median.index,no2_median,color=\"pink\")\n",
        "plt.xticks(rotation=90)\n",
        "plt.ylabel('no2')\n",
        "plt.show()"
      ],
      "execution_count": 15,
      "outputs": [
        {
          "output_type": "stream",
          "text": [
            "state\n",
            "Arunachal Pradesh        5.000000\n",
            "Mizoram                  5.000000\n",
            "Nagaland                 7.000000\n",
            "Meghalaya               10.000000\n",
            "Goa                     11.600000\n",
            "Puducherry              13.000000\n",
            "Jammu & Kashmir         13.000000\n",
            "Himachal Pradesh        13.900000\n",
            "Kerala                  14.000000\n",
            "Assam                   14.000000\n",
            "Odisha                  16.000000\n",
            "Daman & Diu             17.600000\n",
            "Chandigarh              18.000000\n",
            "Dadra & Nagar Haveli    18.000000\n",
            "Madhya Pradesh          19.200000\n",
            "Manipur                 19.800000\n",
            "Andhra Pradesh          20.000000\n",
            "Tamil Nadu              21.000000\n",
            "Karnataka               21.200000\n",
            "Chhattisgarh            21.500000\n",
            "Telangana               22.000000\n",
            "Haryana                 22.750000\n",
            "Gujarat                 23.000000\n",
            "Uttarakhand             25.809659\n",
            "Rajasthan               26.000000\n",
            "Sikkim                  26.800000\n",
            "Uttar Pradesh           27.000000\n",
            "Uttaranchal             27.500000\n",
            "Punjab                  28.300000\n",
            "Maharashtra             29.000000\n",
            "Bihar                   32.000000\n",
            "Jharkhand               42.000000\n",
            "Delhi                   45.000000\n",
            "West Bengal             53.700000\n",
            "Name: no2, dtype: float64\n"
          ],
          "name": "stdout"
        },
        {
          "output_type": "display_data",
          "data": {
            "image/png": "[encoded data removed]",
            "text/plain": [
              "<Figure size 432x288 with 1 Axes>"
            ]
          },
          "metadata": {
            "tags": []
          }
        }
      ]
    },
    {
      "cell_type": "markdown",
      "metadata": {
        "id": "HHIUJspdEPmt",
        "colab_type": "text"
      },
      "source": [
        "### rspm status"
      ]
    },
    {
      "cell_type": "code",
      "metadata": {
        "id": "XPdTrSZrEPmu",
        "colab_type": "code",
        "outputId": "80e288ac-de3a-4c05-fad3-bce53c51e08b",
        "colab": {
          "base_uri": "https://localhost:8080/",
          "height": 977
        }
      },
      "source": [
        "# ... Your code here\n",
        "rspm_median=india_df.groupby(\"state\")[\"rspm\"].median().sort_values(ascending=True)\n",
        "print(rspm_median)\n",
        "plt.bar(rspm_median.index,rspm_median,color=\"lightblue\")\n",
        "plt.xticks(rotation=90)\n",
        "plt.ylabel('rspm')\n",
        "plt.show()"
      ],
      "execution_count": 16,
      "outputs": [
        {
          "output_type": "stream",
          "text": [
            "state\n",
            "Sikkim                   32.000000\n",
            "Mizoram                  40.000000\n",
            "Puducherry               46.000000\n",
            "Kerala                   49.000000\n",
            "Goa                      56.000000\n",
            "Meghalaya                57.000000\n",
            "Tamil Nadu               59.000000\n",
            "Manipur                  61.000000\n",
            "Karnataka                63.000000\n",
            "Arunachal Pradesh        74.500000\n",
            "Andhra Pradesh           76.000000\n",
            "Assam                    77.000000\n",
            "Nagaland                 78.000000\n",
            "Telangana                80.000000\n",
            "Odisha                   81.000000\n",
            "Himachal Pradesh         90.000000\n",
            "Chandigarh               90.000000\n",
            "Dadra & Nagar Haveli     91.000000\n",
            "Gujarat                  95.000000\n",
            "West Bengal              96.000000\n",
            "Maharashtra              96.000000\n",
            "Chhattisgarh            108.833091\n",
            "Madhya Pradesh          108.833091\n",
            "Bihar                   108.833091\n",
            "Daman & Diu             108.833091\n",
            "Uttaranchal             112.000000\n",
            "Rajasthan               112.000000\n",
            "Jammu & Kashmir         116.000000\n",
            "Uttarakhand             135.000000\n",
            "Delhi                   136.000000\n",
            "Haryana                 137.500000\n",
            "Punjab                  147.000000\n",
            "Uttar Pradesh           160.000000\n",
            "Jharkhand               165.000000\n",
            "Name: rspm, dtype: float64\n"
          ],
          "name": "stdout"
        },
        {
          "output_type": "display_data",
          "data": {
            "image/png": "[encoded data removed]",
            "text/plain": [
              "<Figure size 432x288 with 1 Axes>"
            ]
          },
          "metadata": {
            "tags": []
          }
        }
      ]
    },
    {
      "cell_type": "markdown",
      "metadata": {
        "id": "UZ7N_TMyEPmw",
        "colab_type": "text"
      },
      "source": [
        "### spm status"
      ]
    },
    {
      "cell_type": "code",
      "metadata": {
        "id": "2QUl54hAEPmx",
        "colab_type": "code",
        "outputId": "5e655392-38be-41f6-9450-2efd9d455da9",
        "colab": {
          "base_uri": "https://localhost:8080/",
          "height": 977
        }
      },
      "source": [
        "# ... Your code here\n",
        "spm_median=india_df.groupby(\"state\")[\"spm\"].median().sort_values(ascending=True)\n",
        "print(spm_median)\n",
        "plt.bar(spm_median.index,spm_median,color=\"darkblue\")\n",
        "plt.xticks(rotation=90)\n",
        "plt.ylabel('spm')\n",
        "plt.show()"
      ],
      "execution_count": 17,
      "outputs": [
        {
          "output_type": "stream",
          "text": [
            "state\n",
            "Sikkim                   75.00000\n",
            "Manipur                 120.50000\n",
            "Puducherry              191.00000\n",
            "Goa                     199.00000\n",
            "Daman & Diu             200.50000\n",
            "Andhra Pradesh          220.78348\n",
            "Meghalaya               220.78348\n",
            "Mizoram                 220.78348\n",
            "Nagaland                220.78348\n",
            "Odisha                  220.78348\n",
            "Punjab                  220.78348\n",
            "Tamil Nadu              220.78348\n",
            "Telangana               220.78348\n",
            "Uttar Pradesh           220.78348\n",
            "Uttarakhand             220.78348\n",
            "Rajasthan               220.78348\n",
            "Maharashtra             220.78348\n",
            "Kerala                  220.78348\n",
            "Karnataka               220.78348\n",
            "Jharkhand               220.78348\n",
            "Jammu & Kashmir         220.78348\n",
            "Himachal Pradesh        220.78348\n",
            "Haryana                 220.78348\n",
            "Gujarat                 220.78348\n",
            "Dadra & Nagar Haveli    220.78348\n",
            "Chhattisgarh            220.78348\n",
            "Chandigarh              220.78348\n",
            "Bihar                   220.78348\n",
            "Assam                   220.78348\n",
            "Arunachal Pradesh       220.78348\n",
            "Madhya Pradesh          220.78348\n",
            "West Bengal             220.78348\n",
            "Delhi                   253.00000\n",
            "Uttaranchal             268.00000\n",
            "Name: spm, dtype: float64\n"
          ],
          "name": "stdout"
        },
        {
          "output_type": "display_data",
          "data": {
            "image/png": "[encoded data removed]",
            "text/plain": [
              "<Figure size 432x288 with 1 Axes>"
            ]
          },
          "metadata": {
            "tags": []
          }
        }
      ]
    },
    {
      "cell_type": "markdown",
      "metadata": {
        "id": "HdC1LwTnEPm1",
        "colab_type": "text"
      },
      "source": [
        "### What is the yearly trend in a particular state, say ‘Andhra Pradesh’?\n",
        "\n",
        "Create a new dataframe containing the NO2, SO2, rspm, and spm data regarding state ‘Andhra Pradesh’ only and group it by ‘year’. Display top 5 records after."
      ]
    },
    {
      "cell_type": "code",
      "metadata": {
        "id": "2bwgUohfEPm1",
        "colab_type": "code",
        "outputId": "a5bbe43b-acb9-416a-8062-c002a2a18210",
        "colab": {
          "base_uri": "https://localhost:8080/",
          "height": 136
        }
      },
      "source": [
        "# ... Your code here\n",
        "\n",
        "andhra_pradesh=india_df[india_df.state == \"Andhra Pradesh\"]\n",
        "\n",
        "table_median=andhra_pradesh.groupby(\"year\")[\"no2\",\"so2\",\"rspm\",\"spm\"].median().sort_values([\"no2\",\"so2\",\"rspm\",\"spm\"],ascending=False).head(5)\n",
        "print(table_median)"
      ],
      "execution_count": 18,
      "outputs": [
        {
          "output_type": "stream",
          "text": [
            "        no2    so2        rspm    spm\n",
            "year                                 \n",
            "2004  32.00   8.00   85.150000  145.0\n",
            "2006  30.30   5.80   88.000000  191.0\n",
            "1996  30.15  18.85  108.833091  181.5\n",
            "2007  29.85   5.70   85.000000  184.0\n",
            "2005  28.55   5.10   77.000000  208.0\n"
          ],
          "name": "stdout"
        }
      ]
    },
    {
      "cell_type": "code",
      "metadata": {
        "id": "hp8zLviTEPm3",
        "colab_type": "code",
        "outputId": "1ccdddea-d624-4a49-9e42-58fd9f352765",
        "colab": {
          "base_uri": "https://localhost:8080/",
          "height": 282
        }
      },
      "source": [
        "# Display yearly trend graph (year vs. value) in pairs: (a) so2 and no2 (b) rspm and spm. \n",
        "# So, you will display TWO graphs altogether.\n",
        "\n",
        "# ... Your code here\n",
        "data_graph=india_df[india_df['state']=='Andhra Pradesh'].groupby('year').median()\n",
        "\n",
        "plt.plot(data_graph.index,data_graph[\"so2\"],color=\"skyblue\",lw=4,label='so2')\n",
        "plt.plot(data_graph.index,data_graph[\"no2\"],color=\"pink\",lw=4,label='no2')\n",
        "plt.legend()"
      ],
      "execution_count": 24,
      "outputs": [
        {
          "output_type": "execute_result",
          "data": {
            "text/plain": [
              "<matplotlib.legend.Legend at 0x7f3bf613e128>"
            ]
          },
          "metadata": {
            "tags": []
          },
          "execution_count": 24
        },
        {
          "output_type": "display_data",
          "data": {
            "image/png": "[encoded data removed]",
            "text/plain": [
              "<Figure size 432x288 with 1 Axes>"
            ]
          },
          "metadata": {
            "tags": []
          }
        }
      ]
    },
    {
      "cell_type": "code",
      "metadata": {
        "id": "5f6OW8tPAP9F",
        "colab_type": "code",
        "outputId": "48b373b0-9f96-47e1-9ba7-d11aca477d74",
        "colab": {
          "base_uri": "https://localhost:8080/",
          "height": 282
        }
      },
      "source": [
        "plt.plot(data_graph.index,data_graph[\"rspm\"],color=\"lightgreen\",lw=4,label='rspm')\n",
        "plt.plot(data_graph.index,data_graph[\"spm\"],color=\"violet\",lw=4,label='spm')\n",
        "plt.legend()"
      ],
      "execution_count": 29,
      "outputs": [
        {
          "output_type": "execute_result",
          "data": {
            "text/plain": [
              "<matplotlib.legend.Legend at 0x7f3bf6fa8128>"
            ]
          },
          "metadata": {
            "tags": []
          },
          "execution_count": 29
        },
        {
          "output_type": "display_data",
          "data": {
            "image/png": "[encoded data removed]",
            "text/plain": [
              "<Figure size 432x288 with 1 Axes>"
            ]
          },
          "metadata": {
            "tags": []
          }
        }
      ]
    },
    {
      "cell_type": "markdown",
      "metadata": {
        "id": "OYmTr1YIEPm5",
        "colab_type": "text"
      },
      "source": [
        "Do you find anythumg alarming? Explain what you can conclude from this Exploratory Data Analysis for the State of Andhra Pradesh. Enter your answer here .....\n",
        "\n"
      ]
    },
    {
      "cell_type": "markdown",
      "metadata": {
        "id": "OSMqbzwSDlDN",
        "colab_type": "text"
      },
      "source": [
        "The small analysis of the data allowed me to find the following interesting facts: \n",
        "\n",
        "**BAR GRAPHS:**\n",
        "\n",
        "1) For the pollution indicators so2 and spm, the state with the highest median concentration is Uttaranchal. For the other two indicators is different.\n",
        "\n",
        "2) Therefore, each particular area of india(state) has different pollution indicators higher than others and viceversa. \n",
        "\n",
        "3) The graphs show left skewed distribution.\n",
        "\n",
        "4) The ranges of rspm and spm is wider than for so2 and no2. \n",
        "\n",
        "**TREND GRAPHS:**\n",
        "\n",
        "1) There is no really a trend line in what respects to the median values of the indicators accross the years, it goes up and down over the years, with some high peaks and low peaks. \n",
        "\n",
        "2) An interesting facts is that rspm pollution values remained constant for several years, and it kept going down in the last few years. There have to be an analysis done of why does that happened, and apply similar techniques to reduce pollution of other indicators accross India's states. \n"
      ]
    }
  ]
}